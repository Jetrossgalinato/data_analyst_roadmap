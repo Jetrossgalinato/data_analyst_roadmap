{
 "cells": [
  {
   "cell_type": "markdown",
   "id": "3dfb1a6a",
   "metadata": {},
   "source": [
    "# 📘 Sales Data Analysis - Sample Jupyter Notebook"
   ]
  },
  {
   "cell_type": "code",
   "execution_count": null,
   "id": "aacc98cf",
   "metadata": {},
   "outputs": [],
   "source": [
    "%pip install pandas matplotlib"
   ]
  },
  {
   "cell_type": "code",
   "execution_count": null,
   "id": "a37d901a",
   "metadata": {},
   "outputs": [],
   "source": [
    "# Import necessary libraries\n",
    "import pandas as pd\n",
    "import matplotlib.pyplot as plt"
   ]
  },
  {
   "cell_type": "code",
   "execution_count": null,
   "id": "7569ee7b",
   "metadata": {},
   "outputs": [],
   "source": [
    "# Load sample data\n",
    "data = {\n",
    "    'Month': ['January', 'February', 'March', 'April', 'May', 'June'],\n",
    "    'Sales': [2500, 2700, 3000, 2800, 3200, 3300]\n",
    "}\n",
    "df = pd.DataFrame(data)"
   ]
  },
  {
   "cell_type": "code",
   "execution_count": null,
   "id": "6ae046d0",
   "metadata": {},
   "outputs": [],
   "source": [
    "# Display the DataFrame\n",
    "print(\"Sales Data:\")\n",
    "display(df)"
   ]
  },
  {
   "cell_type": "code",
   "execution_count": null,
   "id": "9362a6c4",
   "metadata": {},
   "outputs": [],
   "source": [
    "# Basic statistics\n",
    "print(\"Summary Statistics:\")\n",
    "print(df.describe())"
   ]
  },
  {
   "cell_type": "code",
   "execution_count": null,
   "id": "b9cf048b",
   "metadata": {},
   "outputs": [],
   "source": [
    "# Line Plot\n",
    "plt.figure(figsize=(8, 5))\n",
    "plt.plot(df['Month'], df['Sales'], marker='o', linestyle='-', color='skyblue')\n",
    "plt.title('Monthly Sales')\n",
    "plt.xlabel('Month')\n",
    "plt.ylabel('Sales ($)')\n",
    "plt.grid(True)\n",
    "plt.tight_layout()\n",
    "plt.show()"
   ]
  }
 ],
 "metadata": {
  "kernelspec": {
   "display_name": ".venv",
   "language": "python",
   "name": "python3"
  },
  "language_info": {
   "codemirror_mode": {
    "name": "ipython",
    "version": 3
   },
   "file_extension": ".py",
   "mimetype": "text/x-python",
   "name": "python",
   "nbconvert_exporter": "python",
   "pygments_lexer": "ipython3",
   "version": "3.12.3"
  }
 },
 "nbformat": 4,
 "nbformat_minor": 5
}
